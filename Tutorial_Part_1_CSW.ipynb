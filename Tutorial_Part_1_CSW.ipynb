{
 "cells": [
  {
   "cell_type": "markdown",
   "metadata": {},
   "source": [
    "<img src=\"EMODnet_compact_colour.png\" align=\"right\" width=\"40%\"></img>\n",
    "# EMODnet OGC services Workshop"
   ]
  },
  {
   "cell_type": "markdown",
   "metadata": {},
   "source": [
    "## 1. Search through metadata using the OGC Catalogue Service (CSW)"
   ]
  },
  {
   "cell_type": "markdown",
   "metadata": {},
   "source": [
    "The OWSLib library is a python library that allows for accessing data and metadata through OGC services. The library abstracts all of the traditional HTTP API calls into programmatic function calls. We will be using this library throughout the tutorial to interact with the MissionAtlantic GeoNode OGC services.\n",
    "\n",
    "The library is available from GitHub @  https://github.com/geopython/OWSLib"
   ]
  },
  {
   "cell_type": "code",
   "execution_count": 1,
   "metadata": {},
   "outputs": [],
   "source": [
    "from owslib.csw import CatalogueServiceWeb"
   ]
  },
  {
   "cell_type": "markdown",
   "metadata": {},
   "source": [
    "#### Create a CatalogueServiceWeb object connecting to the EMODnet catalogue webservice\n"
   ]
  },
  {
   "cell_type": "code",
   "execution_count": 2,
   "metadata": {},
   "outputs": [],
   "source": [
    "csw = CatalogueServiceWeb('https://emodnet.ec.europa.eu/geonetwork/emodnet/eng/csw')"
   ]
  },
  {
   "cell_type": "markdown",
   "metadata": {},
   "source": [
    "#### Inspect its properties using print()"
   ]
  },
  {
   "cell_type": "code",
   "execution_count": 3,
   "metadata": {},
   "outputs": [
    {
     "name": "stdout",
     "output_type": "stream",
     "text": [
      "CSW\n",
      "None\n",
      "2.0.2\n",
      "['GetCapabilities', 'DescribeRecord', 'GetDomain', 'GetRecords', 'GetRecordById', 'Transaction', 'Harvest']\n"
     ]
    }
   ],
   "source": [
    "print(csw.identification.type)\n",
    "print(csw.identification.title)\n",
    "print(csw.identification.version)\n",
    "print([op.name for op in csw.operations])"
   ]
  },
  {
   "cell_type": "markdown",
   "metadata": {},
   "source": [
    "#### Inspect the supported GetDomain parameters"
   ]
  },
  {
   "cell_type": "code",
   "execution_count": 4,
   "metadata": {},
   "outputs": [
    {
     "data": {
      "text/plain": [
       "{'resultType': {'values': ['hits', 'results', 'validate']},\n",
       " 'outputFormat': {'values': ['application/xml']},\n",
       " 'outputSchema': {'values': ['http://www.opengis.net/cat/csw/2.0.2',\n",
       "   'http://www.isotc211.org/2005/gfc',\n",
       "   'http://www.w3.org/ns/dcat#',\n",
       "   'http://www.isotc211.org/2005/gmd',\n",
       "   'http://standards.iso.org/iso/19115/-3/mdb/2.0']},\n",
       " 'typeNames': {'values': ['csw:Record',\n",
       "   'gfc:FC_FeatureCatalogue',\n",
       "   'dcat',\n",
       "   'gmd:MD_Metadata',\n",
       "   'mdb:MD_Metadata']},\n",
       " 'CONSTRAINTLANGUAGE': {'values': ['FILTER', 'CQL_TEXT']}}"
      ]
     },
     "execution_count": 4,
     "metadata": {},
     "output_type": "execute_result"
    }
   ],
   "source": [
    "csw.get_operation_by_name(\"GetRecords\").parameters"
   ]
  },
  {
   "cell_type": "markdown",
   "metadata": {},
   "source": [
    "#### Get supported constraint languages"
   ]
  },
  {
   "cell_type": "code",
   "execution_count": 5,
   "metadata": {},
   "outputs": [
    {
     "data": {
      "text/plain": [
       "{'type': 'csw:Record',\n",
       " 'parameter': 'GetRecords.CONSTRAINTLANGUAGE',\n",
       " 'values': []}"
      ]
     },
     "execution_count": 5,
     "metadata": {},
     "output_type": "execute_result"
    }
   ],
   "source": [
    "csw.getdomain('GetRecords.CONSTRAINTLANGUAGE')\n",
    "csw.results"
   ]
  },
  {
   "cell_type": "markdown",
   "metadata": {},
   "source": [
    "#### Get the supported elementsets"
   ]
  },
  {
   "cell_type": "code",
   "execution_count": 6,
   "metadata": {},
   "outputs": [
    {
     "data": {
      "text/plain": [
       "{'type': 'csw:Record',\n",
       " 'parameter': 'GetRecords.ElementSetName',\n",
       " 'values': ['brief', 'summary', 'full']}"
      ]
     },
     "execution_count": 6,
     "metadata": {},
     "output_type": "execute_result"
    }
   ],
   "source": [
    "csw.getdomain('GetRecords.ElementSetName')\n",
    "csw.results"
   ]
  },
  {
   "cell_type": "markdown",
   "metadata": {},
   "source": [
    "#### Get supported output formats"
   ]
  },
  {
   "cell_type": "code",
   "execution_count": 7,
   "metadata": {},
   "outputs": [
    {
     "data": {
      "text/plain": [
       "{'type': 'csw:Record',\n",
       " 'parameter': 'GetRecords.outputFormat',\n",
       " 'values': ['application/xml']}"
      ]
     },
     "execution_count": 7,
     "metadata": {},
     "output_type": "execute_result"
    }
   ],
   "source": [
    "csw.getdomain('GetRecords.outputFormat')\n",
    "csw.results"
   ]
  },
  {
   "cell_type": "markdown",
   "metadata": {},
   "source": [
    "#### Get supported output schemas"
   ]
  },
  {
   "cell_type": "code",
   "execution_count": 8,
   "metadata": {},
   "outputs": [
    {
     "data": {
      "text/plain": [
       "{'type': 'csw:Record',\n",
       " 'parameter': 'GetRecords.outputSchema',\n",
       " 'values': ['http://www.isotc211.org/2005/gmd',\n",
       "  'http://www.opengis.net/cat/csw/2.0.2',\n",
       "  'http://www.isotc211.org/2005/gfc',\n",
       "  'http://www.w3.org/ns/dcat#',\n",
       "  'http://standards.iso.org/iso/19115/-3/mdb/2.0']}"
      ]
     },
     "execution_count": 8,
     "metadata": {},
     "output_type": "execute_result"
    }
   ],
   "source": [
    "csw.getdomain('GetRecords.outputSchema')\n",
    "csw.results"
   ]
  },
  {
   "cell_type": "markdown",
   "metadata": {},
   "source": [
    "#### Search data by using OGC Filter Encoding"
   ]
  },
  {
   "cell_type": "code",
   "execution_count": 9,
   "metadata": {},
   "outputs": [],
   "source": [
    "from owslib.fes import PropertyIsEqualTo, PropertyIsLike"
   ]
  },
  {
   "cell_type": "markdown",
   "metadata": {},
   "source": [
    ">##### Example: search for AnyText fields that equal \"Mediterranean Sea\"\n",
    "'AnyText' searches for the term within any of the text fields in the datasets"
   ]
  },
  {
   "cell_type": "code",
   "execution_count": 10,
   "metadata": {},
   "outputs": [
    {
     "name": "stdout",
     "output_type": "stream",
     "text": [
      "{'matches': 758, 'returned': 5, 'nextrecord': 6}\n",
      "Modelled occurrence probability for Posidonia oceanica meadows across the Mediterranean Sea\n",
      "This dataset is an output of the ÔÇ£Mediterranean Sensitive HabitatsÔÇØ project (MEDISEH). It shows under a raster form modelled spatial distributions of Posidonia oceanica across the Mediterranean Sea. Posidonia oceanica is endemic to the Mediterranean Sea, where it is the dominant seagrass, covering about 50,000 km2 of coastal to offshore sandy and rocky areas down to depths of about 45 m. P. oceanica is a protected species according to EU legislation (Habitat directive), the Bern and Barcelona Conventions and several national legislations. While its distribution is well documented along the European shores of the western Mediterranean Sea, limited information is available about the southern shore and the eastern Mediterranean Sea. In order to bridge this information gap, one of the goals of Task 1.3 of the MEDISEH project was to model P. oceanica distribution across the whole Mediterranean basin.\n",
      "A Random Forest (i.e. a Machine Learning technique) was ÔÇ£trainedÔÇØ on data from regions where information was available and then used to predict the probability of occurrence of P. oceanica where needed. \n",
      "The raster has a spatial resolution of 0.004166 decimal degrees, and the values are in the [0,1] interval (occurrence probabilities).\n",
      "----\n",
      "Aristeus antennatus Spawning map in the central western Mediterranean Sea\n",
      "Data derives from F. Palmas'article, published on February 2015. Aim of this paper is to identify stable spawning and nursery grounds in the Sardinia slope region (central western Mediterranean Sea) for Aristaeomorpha foliacea and Aristeus antennatus. This study also generated relevant information on the spatial and temporal distribution of seasonal or persistent aggregations of spawners and recruits, providing scientific elements to suggest the protection of these important resource. For more informations refer to https://pdfs.semanticscholar.org/3be9/f68e6a203df108f29bdd4c19f5d755682a5e.pdf\n",
      "----\n",
      "90th percentile kinetic energy at the seabed due to waves in the Mediterranean Sea and Black Sea\n",
      "90th percentile Kinetic Energy due to waves at the seabed in the Mediterranean Sea and Black Sea in N m2/s - Created for the EMODnet Seabed Habitats broad-scale habitat map (EUSeaMap 2016). \n",
      "\n",
      "90th percentile Kinetic Energy due to waves at the seabed in the Mediterranean Sea and Black Sea  - Created for the EMODnet Seabed Habitats broad-scale habitat map (EUSeaMap 2016). \n",
      "\n",
      "This dataset is a raster composite of the outputs of several models, created for display in the EMODnet Seabed Habitats portal.   \n",
      "The ISPRA Mc-WAF operational tool, designed to merge different scales for the generation and propagation of the wave energy, was used in the Mediterranean Sea (4km resolution) and the Adriatic Sea (1.6km), run for the years 2012-2015. \n",
      "In the Black sea the data was derived from the Kassandra project (variable resolution, years 2012-2014).\n",
      "\n",
      "Each dataset is available separately.\n",
      "----\n",
      "Aristeus antennatus Nursery map in the central western Mediterranean Sea\n",
      "Data derives from F. Palmas'article, published on February 2015. Aim of this paper is to identify stable spawning and nursery grounds in the Sardinia slope region (central western Mediterranean Sea) for Aristaeomorpha foliacea and Aristeus antennatus. This study also generated relevant information on the spatial and temporal distribution of seasonal or persistent aggregations of spawners and recruits, providing scientific elements to suggest the protection of these important resource. For more informations refer to https://pdfs.semanticscholar.org/3be9/f68e6a203df108f29bdd4c19f5d755682a5e.pdf\n",
      "----\n",
      "Aristaeomorpha foliacea Nursery map in the central western Mediterranean Sea\n",
      "Data derives from F. Palmas'article, published on February 2015. Aim of this paper is to identify stable spawning and nursery grounds in the Sardinia slope region (central western Mediterranean Sea) for Aristaeomorpha foliacea and Aristeus antennatus. This study also generated relevant information on the spatial and temporal distribution of seasonal or persistent aggregations of spawners and recruits, providing scientific elements to suggest the protection of these important resource. For more informations refer to https://pdfs.semanticscholar.org/3be9/f68e6a203df108f29bdd4c19f5d755682a5e.pdf\n",
      "----\n"
     ]
    }
   ],
   "source": [
    "anytext_query = PropertyIsEqualTo('apiso:AnyText','Mediterranean Sea')\n",
    "csw.getrecords2(constraints=[anytext_query], maxrecords=5, esn='full',outputschema='http://www.isotc211.org/2005/gmd')\n",
    "print(csw.results)\n",
    "for rec in csw.records:\n",
    "    print(csw.records[rec].identification[0].title)\n",
    "    print(csw.records[rec].identification[0].abstract)\n",
    "    print(\"----\")"
   ]
  },
  {
   "cell_type": "markdown",
   "metadata": {},
   "source": [
    "> ##### Example: search for title fields that contain \"Physics\"\n",
    "'Title' searches for the term solely within dataset titles"
   ]
  },
  {
   "cell_type": "code",
   "execution_count": 11,
   "metadata": {},
   "outputs": [
    {
     "name": "stdout",
     "output_type": "stream",
     "text": [
      "{'matches': 22, 'returned': 5, 'nextrecord': 6}\n",
      "EMODnet Physics - Deseasonalized Sea Level monthly means Global Oceans\n",
      "EMODnet Physics - Deseasonalized Sea Level monthly means Global Oceans. This product is based, uses and reprocess the CMEMS product id. SEALEVEL_GLO_PHY_CLIMATE_L4_REP_OBSERVATIONS_008_057.\n",
      "----\n",
      "EMODnet Physics - Registry of continuous noise monitoring sites\n",
      "This product displays the fixed stations and transects to assess continuous noise. Data are collected from ICES DB (https://www.ices.dk/data/data-portals/Pages/Continuous-Noise.aspx), the JOMOPANS (https://jomopansgestool.au.dk/en/about) project and QUIETSEA (https://quietseas.eu/).\n",
      "----\n",
      "geophysics_pol_index\n",
      "Geophysics that are shown as polygons. Sometimes the real position of geophysical lines cannot be shown because of confidentiality reasons and in this case a polygon that shows the approximate location is used instead. In other cases the geophysics is best represented by a polygon – for example for 3D seismic surveys.\n",
      "----\n",
      "EMODnet Physics - Absolute Sea Level Trend\n",
      "EMODnet Physics - Absolute Sea Level Trends - trends are derived from the DUACS delayed-time (DT-2018 version) altimeter gridded maps of sea level anomalies based on a stable number of altimeters (two) in the satellite constellation\n",
      "----\n",
      "EMODnet Physics - Collection of all platforms metadata\n",
      "EMODnet Physics - Collection of platforms metadata - updated daily\n",
      "----\n"
     ]
    }
   ],
   "source": [
    "title_query = PropertyIsLike('apiso:Title','%Physics%', wildCard=\"%\")\n",
    "csw.getrecords2(constraints=[title_query], maxrecords=5, esn='full',outputschema='http://www.isotc211.org/2005/gmd')\n",
    "print(csw.results)\n",
    "for rec in csw.records:\n",
    "    print(csw.records[rec].identification[0].title)\n",
    "    print(csw.records[rec].identification[0].abstract)\n",
    "    print(\"----\")"
   ]
  },
  {
   "cell_type": "markdown",
   "metadata": {},
   "source": [
    "#### Search with a CQL query\n",
    "CQL allows to combine search term and filters to create more elaborate queries, narrowing down down the results here we are looking for \"Absolute\" \"Sea Level\""
   ]
  },
  {
   "cell_type": "markdown",
   "metadata": {},
   "source": [
    "> Example: search for Lophelia and 2021 in AnyText fields"
   ]
  },
  {
   "cell_type": "code",
   "execution_count": 12,
   "metadata": {},
   "outputs": [
    {
     "name": "stdout",
     "output_type": "stream",
     "text": [
      "{'matches': 7, 'returned': 5, 'nextrecord': 6}\n",
      "EMODnet Physics - Absolute Sea Level Trend\n",
      "EMODnet Physics - Absolute Sea Level Trends - trends are derived from the DUACS delayed-time (DT-2018 version) altimeter gridded maps of sea level anomalies based on a stable number of altimeters (two) in the satellite constellation\n",
      "----\n",
      "EMODnet Physics - Map of the Absolute Sea Level Trend (DUACS) - ERDDAP\n",
      "EMODnet Physics - Absolute Sea Level Trends - trends are derived from the DUACS delayed-time (DT-2018 version) altimeter gridded maps of sea level anomalies based on a stable number of altimeters (two) in the satellite constellation.\n",
      "----\n",
      "EMODnet Physics - Map of the Absolute Sea Level Trend (GLORYS12V) - ERDDAP\n",
      "EMODnet - Regional sea level trends are derived from the GLORYS12v1 delayed-time (DT-2018 version) altimeter gridded maps of sea level anomalies based on a stable number of altimeters (two) in the satellite constellation\n",
      "----\n",
      "EMODnet Physics - Map of the Absolute Sea Level Trend (DUACS)\n",
      "Absolute Sea Level trend Map [1993-2020]. The product is based on DUACS, developed by CMCC for EMODnet Physics.\n",
      "----\n",
      "EMODnet Physics - Map of the Absolute Sea Level Trend (GLORYS12V)\n",
      "Absolute Sea Level trend Map [1993-2019]. The product is based on GLORYS12v1, developed by CMCC for EMODnet Physics.\n",
      "----\n"
     ]
    }
   ],
   "source": [
    "csw.getrecords2(cql='csw:AnyText like \\'%Sea Level%\\' AND dc:title like \\'%Absolute%\\'' , maxrecords=5,esn='full',outputschema='http://www.isotc211.org/2005/gmd')  \n",
    "print(csw.results)              # For more information on query syntax, please refer to: https://developer.atlassian.com/server/confluence/advanced-searching-using-cql/ . \n",
    "for rec in csw.records:\n",
    "    print(csw.records[rec].identification[0].title)\n",
    "    print(csw.records[rec].identification[0].abstract)\n",
    "    print(\"----\")"
   ]
  },
  {
   "cell_type": "markdown",
   "metadata": {},
   "source": [
    "#### Get record metadata\n",
    "Choosing one specific record from the list returned above in order to inspect it in more details. "
   ]
  },
  {
   "cell_type": "code",
   "execution_count": 13,
   "metadata": {},
   "outputs": [
    {
     "name": "stdout",
     "output_type": "stream",
     "text": [
      "{'abstract': 'EMODnet Physics - Absolute Sea Level Trends - trends are derived '\n",
      "             'from the DUACS delayed-time (DT-2018 version) altimeter gridded '\n",
      "             'maps of sea level anomalies based on a stable number of '\n",
      "             'altimeters (two) in the satellite constellation',\n",
      " 'abstract_url': None,\n",
      " 'accessconstraints': [],\n",
      " 'aggregationinfo': '',\n",
      " 'alternatetitle': None,\n",
      " 'bbox': <owslib.iso.EX_GeographicBoundingBox object at 0x000001C4D9C6AD50>,\n",
      " 'classification': [],\n",
      " 'contact': [<owslib.iso.CI_ResponsibleParty object at 0x000001C4D98F9150>],\n",
      " 'contributor': [],\n",
      " 'creator': [],\n",
      " 'date': [<owslib.iso.CI_Date object at 0x000001C4DA05C050>],\n",
      " 'datetype': [],\n",
      " 'denominators': [],\n",
      " 'distance': [],\n",
      " 'edition': None,\n",
      " 'extent': <owslib.iso.EX_Extent object at 0x000001C4D9947810>,\n",
      " 'graphicoverview': [],\n",
      " 'identtype': 'dataset',\n",
      " 'keywords': [<owslib.iso.MD_Keywords object at 0x000001C4D9947B90>,\n",
      "              <owslib.iso.MD_Keywords object at 0x000001C4DA15DC10>,\n",
      "              <owslib.iso.MD_Keywords object at 0x000001C4DA15CB10>,\n",
      "              <owslib.iso.MD_Keywords object at 0x000001C4DA15E150>,\n",
      "              <owslib.iso.MD_Keywords object at 0x000001C4DA15ED50>],\n",
      " 'otherconstraints': [],\n",
      " 'publisher': [],\n",
      " 'purpose': None,\n",
      " 'resourcelanguage': [],\n",
      " 'resourcelanguagecode': ['eng'],\n",
      " 'securityconstraints': [],\n",
      " 'spatialrepresentationtype': [],\n",
      " 'status': None,\n",
      " 'supplementalinformation': None,\n",
      " 'temporalextent_end': '2020-12-16T00:00:00Z',\n",
      " 'temporalextent_start': '2020-12-16T00:00:00Z',\n",
      " 'title': 'EMODnet Physics - Absolute Sea Level Trend',\n",
      " 'topiccategory': ['geoscientificInformation'],\n",
      " 'uom': [],\n",
      " 'uricode': ['EMODNET_SEA_LEVEL_TREND'],\n",
      " 'uricodespace': [],\n",
      " 'useconstraints': [],\n",
      " 'uselimitation': ['Creative Commons Attribution Share-Alike '\n",
      "                   'http://www.opendefinition.org/licenses/cc-by-sa'],\n",
      " 'uselimitation_url': []}\n"
     ]
    }
   ],
   "source": [
    "from pprint import pprint\n",
    "records = [csw.records[rec] for rec in csw.records]\n",
    "record = records[0]\n",
    "pprint(vars(record.identification[0]))"
   ]
  },
  {
   "cell_type": "markdown",
   "metadata": {},
   "source": [
    "#### Get record data\n",
    "Accessing the actual online distribution methods for the selected record."
   ]
  },
  {
   "cell_type": "code",
   "execution_count": 14,
   "metadata": {},
   "outputs": [
    {
     "name": "stdout",
     "output_type": "stream",
     "text": [
      "Description:  EMODNET_SEA_LEVEL_TREND\n",
      "Protocol:  OGC:WMS\n",
      "URL:  https://prod-erddap.emodnet-physics.eu/ncWMS/wms?SERVICE=WMS&REQUEST=GetCapabilities&VERSION=1.3.0&DATASET=EMODNET_SEA_LEVEL_TREND\n",
      "---\n"
     ]
    }
   ],
   "source": [
    "for resource in record.distribution.online:\n",
    "    print('Description: ', resource.description)\n",
    "    print('Protocol: ', resource.protocol)\n",
    "    print('URL: ', resource.url)\n",
    "    print(\"---\")"
   ]
  },
  {
   "cell_type": "markdown",
   "metadata": {},
   "source": [
    "### Store queried data and save as a CSV file\n",
    "The example that follows aims to show how to utilise the concepts viewed above. here we use a simple query on the title of records, (but any of the previously showcased queries can work) we then save the gathered data into a dataframe that is then converted into a .csv file which can be imported in Excel for example."
   ]
  },
  {
   "cell_type": "code",
   "execution_count": 15,
   "metadata": {},
   "outputs": [
    {
     "name": "stdout",
     "output_type": "stream",
     "text": [
      "{'matches': 112, 'returned': 112, 'nextrecord': 0}\n",
      "Data saved to data/CSW_data.csv\n"
     ]
    }
   ],
   "source": [
    "import pandas as pd\n",
    "Query_word = 'Baltic'\n",
    "\n",
    "# Set the CSW query properties\n",
    "title_query = PropertyIsLike('apiso:Title',f'%{Query_word}%', wildCard=\"%\")\n",
    "csw.getrecords2(constraints=[title_query], maxrecords=300, esn='full',outputschema='http://www.isotc211.org/2005/gmd')\n",
    "print(csw.results)\n",
    "\n",
    "# Create an empty dictionary to store URLs and protocols by title\n",
    "data_dict = {'Title': [], 'Abstract': [], 'URLs': [], 'Protocols': []}\n",
    "\n",
    "# Loop through the retrieved records\n",
    "for rec in csw.records:\n",
    "    record = csw.records[rec]\n",
    "    # Extract relevant information from the record\n",
    "    title = record.identification[0].title\n",
    "    abstract = record.identification[0].abstract\n",
    "    \n",
    "    # Initialize lists to store URLs and protocols for each record title\n",
    "    urls = []\n",
    "    protocols = []\n",
    "    \n",
    "    # Collect URLs and protocols associated with each record title\n",
    "    for resource in record.distribution.online:\n",
    "        if resource.url:\n",
    "            urls.append(resource.url)\n",
    "        if resource.protocol:\n",
    "            protocols.append(resource.protocol)\n",
    "    \n",
    "    # Combine URLs and protocols into single strings\n",
    "    urls_str = '; \\n'.join(urls)  \n",
    "    protocols_str = '; \\n'.join(protocols)\n",
    "    \n",
    "    # Append data to dictionary\n",
    "    data_dict['Title'].append(title)\n",
    "    data_dict['Abstract'].append(abstract)\n",
    "    data_dict['URLs'].append(urls_str)\n",
    "    data_dict['Protocols'].append(protocols_str)\n",
    "\n",
    "# Create a DataFrame from the dictionary\n",
    "df = pd.DataFrame(data_dict)\n",
    "\n",
    "# Sort the DataFrame by 'Title' column and reset index\n",
    "df_sorted = df.sort_values(by='Title').reset_index(drop=True)\n",
    "\n",
    "# Specify the CSV file path\n",
    "csv_file_path = 'data/CSW_data.csv'\n",
    "\n",
    "# Manually open the CSV file with line terminator as empty string\n",
    "csv_file = open(csv_file_path, 'w', newline='')\n",
    "\n",
    "# Write the DataFrame to the CSV file\n",
    "df_sorted.to_csv(csv_file, index=False)\n",
    "\n",
    "# Manually close the CSV file\n",
    "csv_file.close()\n",
    "\n",
    "print(f\"Data saved to {csv_file_path}\")"
   ]
  },
  {
   "cell_type": "markdown",
   "metadata": {},
   "source": [
    "### [>> Next: Visualize data using OGC Web Mapping Service (WMS)](Tutorial_Part_2_WMS.ipynb) "
   ]
  },
  {
   "cell_type": "markdown",
   "metadata": {},
   "source": [
    "<hr>"
   ]
  },
  {
   "cell_type": "markdown",
   "metadata": {},
   "source": [
    "<a rel=\"license\" href=\"http://creativecommons.org/licenses/by/4.0/\"><img style=\"float: right\" alt=\"Creative Commons Lizenzvertrag\" style=\"border-width:0\" src=\"https://i.creativecommons.org/l/by/4.0/88x31.png\" /></a>"
   ]
  }
 ],
 "metadata": {
  "kernelspec": {
   "display_name": "ogc_workshop",
   "language": "python",
   "name": "python3"
  },
  "language_info": {
   "codemirror_mode": {
    "name": "ipython",
    "version": 3
   },
   "file_extension": ".py",
   "mimetype": "text/x-python",
   "name": "python",
   "nbconvert_exporter": "python",
   "pygments_lexer": "ipython3",
   "version": "3.11.5"
  }
 },
 "nbformat": 4,
 "nbformat_minor": 2
}
