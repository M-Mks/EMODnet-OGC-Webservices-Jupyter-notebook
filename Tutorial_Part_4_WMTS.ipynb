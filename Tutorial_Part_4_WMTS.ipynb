{
 "cells": [
  {
   "cell_type": "markdown",
   "metadata": {},
   "source": [
    "<img src=\"EMODnet_compact_colour.png\" align=\"right\" width=\"50%\"></img>\n",
    "# EMODnet OGC services Workshop"
   ]
  },
  {
   "cell_type": "code",
   "execution_count": 1,
   "metadata": {},
   "outputs": [],
   "source": [
    "from owslib.wmts import WebMapTileService\n",
    "from ipyleaflet import Map, ImageOverlay\n",
    "from folium.features import image_to_url\n",
    "from matplotlib.image import imread\n",
    "import io\n",
    "import math"
   ]
  },
  {
   "cell_type": "markdown",
   "metadata": {},
   "source": [
    "## Part 4: WMTS SERVICES"
   ]
  },
  {
   "cell_type": "code",
   "execution_count": 2,
   "metadata": {},
   "outputs": [],
   "source": [
    "Bathymetry = 'https://tiles.emodnet-bathymetry.eu/wmts/1.0.0/WMTSCapabilities.xml'\n",
    "wmts = WebMapTileService(Bathymetry, version='1.0.0')"
   ]
  },
  {
   "cell_type": "code",
   "execution_count": 3,
   "metadata": {},
   "outputs": [
    {
     "name": "stdout",
     "output_type": "stream",
     "text": [
      "OGC WMTS\n",
      "1.0.0\n",
      "EMODnet Bathymetry\n",
      "None\n"
     ]
    }
   ],
   "source": [
    "print(wmts.identification.type)\n",
    "print(wmts.identification.version)\n",
    "print(wmts.identification.title)\n",
    "print(wmts.identification.abstract)"
   ]
  },
  {
   "cell_type": "markdown",
   "metadata": {},
   "source": [
    "#### Find out what layers are available"
   ]
  },
  {
   "cell_type": "code",
   "execution_count": 15,
   "metadata": {},
   "outputs": [
    {
     "data": {
      "text/plain": [
       "['baselayer',\n",
       " 'baselayer_land',\n",
       " 'mean_atlas_land_2016',\n",
       " 'mean_atlas_land_2018',\n",
       " 'mean_atlas_land_2020',\n",
       " 'mean_atlas_land_2022',\n",
       " 'mean_atlas_land_latest',\n",
       " 'mean_multicolour_2016',\n",
       " 'mean_multicolour_2018',\n",
       " 'mean_multicolour_2020',\n",
       " 'mean_multicolour_2022',\n",
       " 'mean_multicolour_latest',\n",
       " 'mean_rainbowcolour_2016',\n",
       " 'mean_rainbowcolour_2018',\n",
       " 'mean_rainbowcolour_2020',\n",
       " 'mean_rainbowcolour_2022',\n",
       " 'mean_rainbowcolour_latest']"
      ]
     },
     "execution_count": 15,
     "metadata": {},
     "output_type": "execute_result"
    }
   ],
   "source": [
    "list(wmts.contents)"
   ]
  },
  {
   "cell_type": "markdown",
   "metadata": {},
   "source": [
    "#### Get the details of a layer (available layer metadata):"
   ]
  },
  {
   "cell_type": "code",
   "execution_count": 16,
   "metadata": {},
   "outputs": [],
   "source": [
    "dataset = 'baselayer'"
   ]
  },
  {
   "cell_type": "code",
   "execution_count": 17,
   "metadata": {},
   "outputs": [
    {
     "name": "stdout",
     "output_type": "stream",
     "text": [
      "Global land and water coverage\n",
      "30 arc second compilation of EMODnet Bathymetry 2018, GEBCO 2019 and various land DEM sources (ASTER, SRTM, EU DEM and viewfinderspanoramas.org) in traditional atlas style colours\n"
     ]
    }
   ],
   "source": [
    "print(wmts[dataset].title)\n",
    "print(wmts[dataset].abstract)"
   ]
  },
  {
   "cell_type": "code",
   "execution_count": 18,
   "metadata": {},
   "outputs": [
    {
     "name": "stdout",
     "output_type": "stream",
     "text": [
      "['inspire_quad', 'web_mercator', 'epsg_3031', 'epsg_3996', 'laea']\n"
     ]
    }
   ],
   "source": [
    "print([wmts.tilematrixsets[name].identifier for name in wmts.tilematrixsets])"
   ]
  },
  {
   "cell_type": "markdown",
   "metadata": {},
   "source": [
    "#### Get bounding boxes information in WGS84\n",
    "Save as variable 'bbox1 & 2' and print to inspect"
   ]
  },
  {
   "cell_type": "code",
   "execution_count": 19,
   "metadata": {},
   "outputs": [
    {
     "name": "stdout",
     "output_type": "stream",
     "text": [
      "(-180.0, -90.0, 180.0, 90.0)\n"
     ]
    }
   ],
   "source": [
    "#Print the Bounding box of the desired layers\n",
    "bbox1 = wmts[dataset].boundingBoxWGS84\n",
    "\n",
    "print(bbox1)\n"
   ]
  },
  {
   "cell_type": "markdown",
   "metadata": {},
   "source": [
    "#### Get available styles"
   ]
  },
  {
   "cell_type": "code",
   "execution_count": 20,
   "metadata": {},
   "outputs": [
    {
     "data": {
      "text/plain": [
       "{'default': {'isDefault': False,\n",
       "  'legend': 'https://tiles.emodnet-bathymetry.eu/legends/legend_atlas_land.png',\n",
       "  'width': '198',\n",
       "  'height': '275',\n",
       "  'format': 'image/png'}}"
      ]
     },
     "execution_count": 20,
     "metadata": {},
     "output_type": "execute_result"
    }
   ],
   "source": [
    "wmts[dataset].styles"
   ]
  },
  {
   "cell_type": "markdown",
   "metadata": {},
   "source": [
    "#### See available methods"
   ]
  },
  {
   "cell_type": "code",
   "execution_count": 21,
   "metadata": {},
   "outputs": [
    {
     "data": {
      "text/plain": [
       "[]"
      ]
     },
     "execution_count": 21,
     "metadata": {},
     "output_type": "execute_result"
    }
   ],
   "source": [
    "[op.name for op in wmts.operations]"
   ]
  },
  {
   "cell_type": "markdown",
   "metadata": {},
   "source": [
    "## Web Map Tiles services Access.\n",
    "Definition and example usage of the functions needed to plot the WMTS. Here, we plot the simple OSM baselayer that was explored above"
   ]
  },
  {
   "cell_type": "code",
   "execution_count": 22,
   "metadata": {},
   "outputs": [
    {
     "data": {
      "application/vnd.jupyter.widget-view+json": {
       "model_id": "baf8aa91eced47f581b894cbcf22e11b",
       "version_major": 2,
       "version_minor": 0
      },
      "text/plain": [
       "Map(center=[45, 0], controls=(ZoomControl(options=['position', 'zoom_in_text', 'zoom_in_title', 'zoom_out_text…"
      ]
     },
     "execution_count": 22,
     "metadata": {},
     "output_type": "execute_result"
    }
   ],
   "source": [
    "class BasemapDefinition:\n",
    "    def __init__(self, lat, lon, zoom=10):\n",
    "        \n",
    "        self.lat_center = lat\n",
    "        self.lon_center = lon\n",
    "        \n",
    "        try:\n",
    "            self.zoom = zoom\n",
    "        except:\n",
    "            pass\n",
    "        \n",
    "                \n",
    "        self.map = Map(center=[self.lat_center, self.lon_center],\n",
    "                       zoom=self.zoom,\n",
    "                       width='50%',\n",
    "                       heigth=6000)\n",
    "    \n",
    "    def wmtsRequest(self, coordinates_list, layers_list):\n",
    "        wmts_url = Bathymetry\n",
    "        wmts = WebMapTileService(wmts_url)\n",
    "        \n",
    "        for lat, lon in coordinates_list:\n",
    "            x, y = self.deg2num(lat, lon, self.zoom)\n",
    "            for layer in layers_list:\n",
    "                wmtsOut = wmts.gettile(layer=layer,\n",
    "                                        tilematrixset='web_mercator',\n",
    "                                        tilematrix=self.zoom,\n",
    "                                        row=y,\n",
    "                                        column=x,\n",
    "                                        format=\"image/png\")\n",
    "                imgArr = imread(io.BytesIO(wmtsOut.read()))\n",
    "                lat_max, lon_min = self.num2deg(x, y, self.zoom)\n",
    "                lat_min, lon_max = self.num2deg(x+1, y+1, self.zoom)\n",
    "                imgurl = image_to_url(image=imgArr)\n",
    "                self.map.add_layer(ImageOverlay(url=imgurl,\n",
    "                                                bounds=[[lat_min, lon_min],\n",
    "                                                        [lat_max, lon_max]]))\n",
    "\n",
    "    def deg2num(self, lat, lon, zoom):\n",
    "        \n",
    "        lat_rad = math.radians(lat)\n",
    "        n = 2.0 ** zoom\n",
    "        xtile = int((lon + 180.0) / 360.0 * n)\n",
    "        ytile = int((1.0 - math.log(math.tan(lat_rad) + (1 / math.cos(lat_rad))) / math.pi) / 2.0 * n)\n",
    "        return (xtile, ytile)\n",
    "    \n",
    "    def num2deg(self, xtile, ytile, zoom):\n",
    "        \"\"\"returns NW corners, for other corners, use xtile+1 and/or\n",
    "        ytile+1\"\"\"\n",
    "        n = 2.0 ** zoom\n",
    "        lon_deg = xtile / n * 360.0 - 180.0\n",
    "        lat_rad = math.atan(math.sinh(math.pi * (1 - 2 * ytile / n)))\n",
    "        lat_deg = math.degrees(lat_rad)\n",
    "        return (lat_deg, lon_deg)\n",
    "\n",
    "bd = BasemapDefinition(45, 0, 4)\n",
    "coordinates_list = [(45, 0), (45,-5), (45, 30), (35, 0), (35,-5),(35, 30)]  # Add more coordinates as needed\n",
    "layers_list = [dataset]  # Add more layers as needed\n",
    "bd.wmtsRequest(coordinates_list, layers_list)\n",
    "bd.map"
   ]
  }
 ],
 "metadata": {
  "kernelspec": {
   "display_name": "ogc_workshop",
   "language": "python",
   "name": "python3"
  },
  "language_info": {
   "codemirror_mode": {
    "name": "ipython",
    "version": 3
   },
   "file_extension": ".py",
   "mimetype": "text/x-python",
   "name": "python",
   "nbconvert_exporter": "python",
   "pygments_lexer": "ipython3",
   "version": "3.11.5"
  }
 },
 "nbformat": 4,
 "nbformat_minor": 2
}
